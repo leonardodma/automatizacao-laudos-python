{
 "metadata": {
  "language_info": {
   "codemirror_mode": {
    "name": "ipython",
    "version": 3
   },
   "file_extension": ".py",
   "mimetype": "text/x-python",
   "name": "python",
   "nbconvert_exporter": "python",
   "pygments_lexer": "ipython3",
   "version": "3.9.6"
  },
  "orig_nbformat": 4,
  "kernelspec": {
   "name": "python3",
   "display_name": "Python 3.9.6 64-bit"
  },
  "interpreter": {
   "hash": "d848baec29682f74f399891e5c36a8af944928a6e52d6d3f193ff6a25830aecd"
  }
 },
 "nbformat": 4,
 "nbformat_minor": 2,
 "cells": [
  {
   "source": [
    "# Imports"
   ],
   "cell_type": "markdown",
   "metadata": {}
  },
  {
   "cell_type": "code",
   "execution_count": 6,
   "metadata": {},
   "outputs": [],
   "source": [
    "import pandas as pd \n",
    "import numpy as np"
   ]
  },
  {
   "cell_type": "code",
   "execution_count": 8,
   "metadata": {},
   "outputs": [
    {
     "output_type": "execute_result",
     "data": {
      "text/plain": [
       "                Bairro  Município         Tipo\n",
       "2422  Jardim Ermida II    Jundiaí          NaN\n",
       "2423    Vila Guilherme  São Paulo          NaN\n",
       "2424     \\tÁgua Branca  São Paulo  Apartamento\n",
       "2425  Santa Felicidade   Curitiba          NaN\n",
       "2426  Jardim Aeroporto  São Paulo  Apartamento"
      ],
      "text/html": "<div>\n<style scoped>\n    .dataframe tbody tr th:only-of-type {\n        vertical-align: middle;\n    }\n\n    .dataframe tbody tr th {\n        vertical-align: top;\n    }\n\n    .dataframe thead th {\n        text-align: right;\n    }\n</style>\n<table border=\"1\" class=\"dataframe\">\n  <thead>\n    <tr style=\"text-align: right;\">\n      <th></th>\n      <th>Bairro</th>\n      <th>Município</th>\n      <th>Tipo</th>\n    </tr>\n  </thead>\n  <tbody>\n    <tr>\n      <th>2422</th>\n      <td>Jardim Ermida II</td>\n      <td>Jundiaí</td>\n      <td>NaN</td>\n    </tr>\n    <tr>\n      <th>2423</th>\n      <td>Vila Guilherme</td>\n      <td>São Paulo</td>\n      <td>NaN</td>\n    </tr>\n    <tr>\n      <th>2424</th>\n      <td>\\tÁgua Branca</td>\n      <td>São Paulo</td>\n      <td>Apartamento</td>\n    </tr>\n    <tr>\n      <th>2425</th>\n      <td>Santa Felicidade</td>\n      <td>Curitiba</td>\n      <td>NaN</td>\n    </tr>\n    <tr>\n      <th>2426</th>\n      <td>Jardim Aeroporto</td>\n      <td>São Paulo</td>\n      <td>Apartamento</td>\n    </tr>\n  </tbody>\n</table>\n</div>"
     },
     "metadata": {},
     "execution_count": 8
    }
   ],
   "source": [
    "valuation = pd.read_excel('Banco de Dados Avaliações.xlsb', engine='pyxlsb', header=4)\n",
    "valuation = valuation.loc[:, ['Bairro','Município', 'Tipo']].dropna(axis = 0, how = 'all')\n",
    "valuation.tail(5)"
   ]
  },
  {
   "cell_type": "code",
   "execution_count": null,
   "metadata": {},
   "outputs": [],
   "source": []
  }
 ]
}